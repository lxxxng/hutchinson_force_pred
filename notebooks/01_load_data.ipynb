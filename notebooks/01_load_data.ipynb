{
 "cells": [
  {
   "cell_type": "code",
   "execution_count": 1,
   "id": "3e4a59c0",
   "metadata": {},
   "outputs": [],
   "source": [
    "import pandas as pd\n",
    "import os\n",
    "import numpy as np\n",
    "import joblib\n"
   ]
  },
  {
   "cell_type": "markdown",
   "id": "3c0c8763",
   "metadata": {},
   "source": [
    "# Load training data"
   ]
  },
  {
   "cell_type": "code",
   "execution_count": 2,
   "id": "c48de2d5",
   "metadata": {},
   "outputs": [],
   "source": [
    "def loadData(folder_path, X_raw, y_raw):\n",
    "    \n",
    "    # get all files in folder\n",
    "    file_list = [file for file in os.listdir(folder_path) if file.endswith('.xlsx')]\n",
    "    \n",
    "    for file in file_list:\n",
    "        file_path = os.path.join(folder_path, file)\n",
    "        \n",
    "        # Read 'stress' as features (X) and 'force' as labels (y)\n",
    "        X = pd.read_excel(file_path, sheet_name='stress')\n",
    "        y = pd.read_excel(file_path, sheet_name='force')\n",
    "        \n",
    "        X_raw.append(X)\n",
    "        y_raw.append(y)\n",
    "\n",
    "folder_path = '../data/train'\n",
    "X_raw = []\n",
    "y_raw = []\n",
    "loadData(folder_path, X_raw, y_raw)"
   ]
  },
  {
   "cell_type": "code",
   "execution_count": 3,
   "id": "8ca798fa",
   "metadata": {},
   "outputs": [
    {
     "name": "stdout",
     "output_type": "stream",
     "text": [
      "Lab 1  | Feature Shape: (79679, 19)     | Label Shape: (64512, 4)     \n",
      "Lab 2  | Feature Shape: (147892, 19)    | Label Shape: (146432, 4)    \n",
      "Lab 3  | Feature Shape: (106195, 19)    | Label Shape: (84992, 4)     \n",
      "Lab 4  | Feature Shape: (92476, 19)     | Label Shape: (84992, 4)     \n"
     ]
    }
   ],
   "source": [
    "#check dimension for each lab results\n",
    "for i in range(len(X_raw)):\n",
    "    print(f\"Lab {i + 1:<2} | Feature Shape: {str(X_raw[i].shape):<15} | Label Shape: {str(y_raw[i].shape):<15}\")\n"
   ]
  },
  {
   "cell_type": "markdown",
   "id": "55ac0a99",
   "metadata": {},
   "source": [
    "There are different amount of samples for features and label. I wish to make them the same by joining using common feature 'time'"
   ]
  },
  {
   "cell_type": "code",
   "execution_count": 4,
   "id": "dcbc690f",
   "metadata": {},
   "outputs": [
    {
     "name": "stdout",
     "output_type": "stream",
     "text": [
      "<class 'pandas.core.frame.DataFrame'>\n",
      "RangeIndex: 79679 entries, 0 to 79678\n",
      "Data columns (total 19 columns):\n",
      " #   Column    Non-Null Count  Dtype  \n",
      "---  ------    --------------  -----  \n",
      " 0   Time      79679 non-null  float64\n",
      " 1   1_red     79679 non-null  float64\n",
      " 2   1_blue    79679 non-null  float64\n",
      " 3   1_yellow  79679 non-null  float64\n",
      " 4   2_red     79679 non-null  float64\n",
      " 5   2_blue    79679 non-null  float64\n",
      " 6   2_yellow  79679 non-null  float64\n",
      " 7   3_red     79679 non-null  float64\n",
      " 8   3_blue    79679 non-null  float64\n",
      " 9   3_yellow  79679 non-null  float64\n",
      " 10  4_red     79679 non-null  float64\n",
      " 11  4_blue    79679 non-null  float64\n",
      " 12  4_yellow  79679 non-null  float64\n",
      " 13  5_red     79679 non-null  float64\n",
      " 14  5_blue    79679 non-null  float64\n",
      " 15  5_yellow  79679 non-null  float64\n",
      " 16  6_red     79679 non-null  float64\n",
      " 17  6_blue    79679 non-null  float64\n",
      " 18  6_yellow  79679 non-null  float64\n",
      "dtypes: float64(19)\n",
      "memory usage: 11.6 MB\n",
      "None\n",
      "<class 'pandas.core.frame.DataFrame'>\n",
      "RangeIndex: 147892 entries, 0 to 147891\n",
      "Data columns (total 19 columns):\n",
      " #   Column    Non-Null Count   Dtype  \n",
      "---  ------    --------------   -----  \n",
      " 0   Time      147892 non-null  float64\n",
      " 1   1_red     147892 non-null  float64\n",
      " 2   1_blue    147892 non-null  float64\n",
      " 3   1_yellow  147892 non-null  float64\n",
      " 4   2_red     147892 non-null  float64\n",
      " 5   2_blue    147892 non-null  float64\n",
      " 6   2_yellow  147892 non-null  float64\n",
      " 7   3_red     147892 non-null  float64\n",
      " 8   3_blue    147892 non-null  float64\n",
      " 9   3_yellow  147892 non-null  float64\n",
      " 10  4_red     147892 non-null  float64\n",
      " 11  4_blue    147892 non-null  float64\n",
      " 12  4_yellow  147892 non-null  float64\n",
      " 13  5_red     147892 non-null  float64\n",
      " 14  5_blue    147892 non-null  float64\n",
      " 15  5_yellow  147892 non-null  float64\n",
      " 16  6_red     147892 non-null  float64\n",
      " 17  6_blue    147892 non-null  float64\n",
      " 18  6_yellow  147892 non-null  float64\n",
      "dtypes: float64(19)\n",
      "memory usage: 21.4 MB\n",
      "None\n",
      "<class 'pandas.core.frame.DataFrame'>\n",
      "RangeIndex: 106195 entries, 0 to 106194\n",
      "Data columns (total 19 columns):\n",
      " #   Column    Non-Null Count   Dtype  \n",
      "---  ------    --------------   -----  \n",
      " 0   Time      106195 non-null  float64\n",
      " 1   1_red     105755 non-null  float64\n",
      " 2   1_blue    105755 non-null  float64\n",
      " 3   1_yellow  105755 non-null  float64\n",
      " 4   2_red     105755 non-null  float64\n",
      " 5   2_blue    105755 non-null  float64\n",
      " 6   2_yellow  105755 non-null  float64\n",
      " 7   3_red     105755 non-null  float64\n",
      " 8   3_blue    105755 non-null  float64\n",
      " 9   3_yellow  105755 non-null  float64\n",
      " 10  4_red     105755 non-null  float64\n",
      " 11  4_blue    105755 non-null  float64\n",
      " 12  4_yellow  105755 non-null  float64\n",
      " 13  5_red     105755 non-null  float64\n",
      " 14  5_blue    105755 non-null  float64\n",
      " 15  5_yellow  105755 non-null  float64\n",
      " 16  6_red     105755 non-null  float64\n",
      " 17  6_blue    105755 non-null  float64\n",
      " 18  6_yellow  105755 non-null  float64\n",
      "dtypes: float64(19)\n",
      "memory usage: 15.4 MB\n",
      "None\n",
      "<class 'pandas.core.frame.DataFrame'>\n",
      "RangeIndex: 92476 entries, 0 to 92475\n",
      "Data columns (total 19 columns):\n",
      " #   Column    Non-Null Count  Dtype  \n",
      "---  ------    --------------  -----  \n",
      " 0   Time      92476 non-null  float64\n",
      " 1   1_red     92476 non-null  float64\n",
      " 2   1_blue    92476 non-null  float64\n",
      " 3   1_yellow  92476 non-null  float64\n",
      " 4   2_red     92476 non-null  float64\n",
      " 5   2_blue    92476 non-null  float64\n",
      " 6   2_yellow  92476 non-null  float64\n",
      " 7   3_red     92476 non-null  float64\n",
      " 8   3_blue    92476 non-null  float64\n",
      " 9   3_yellow  92476 non-null  float64\n",
      " 10  4_red     92476 non-null  float64\n",
      " 11  4_blue    92476 non-null  float64\n",
      " 12  4_yellow  92476 non-null  float64\n",
      " 13  5_red     92476 non-null  float64\n",
      " 14  5_blue    92476 non-null  float64\n",
      " 15  5_yellow  92476 non-null  float64\n",
      " 16  6_red     92476 non-null  float64\n",
      " 17  6_blue    92476 non-null  float64\n",
      " 18  6_yellow  92476 non-null  float64\n",
      "dtypes: float64(19)\n",
      "memory usage: 13.4 MB\n",
      "None\n"
     ]
    }
   ],
   "source": [
    "for data in X_raw:\n",
    "    print(data.info())"
   ]
  },
  {
   "cell_type": "code",
   "execution_count": 5,
   "id": "e0098444",
   "metadata": {},
   "outputs": [
    {
     "name": "stdout",
     "output_type": "stream",
     "text": [
      "<class 'pandas.core.frame.DataFrame'>\n",
      "RangeIndex: 64512 entries, 0 to 64511\n",
      "Data columns (total 4 columns):\n",
      " #   Column    Non-Null Count  Dtype  \n",
      "---  ------    --------------  -----  \n",
      " 0   Time (s)  64512 non-null  float64\n",
      " 1   Z (kN)    64512 non-null  float64\n",
      " 2   Y (kN)    64512 non-null  float64\n",
      " 3   X (kN)    64512 non-null  float64\n",
      "dtypes: float64(4)\n",
      "memory usage: 2.0 MB\n",
      "None\n",
      "<class 'pandas.core.frame.DataFrame'>\n",
      "RangeIndex: 146432 entries, 0 to 146431\n",
      "Data columns (total 4 columns):\n",
      " #   Column    Non-Null Count   Dtype  \n",
      "---  ------    --------------   -----  \n",
      " 0   Time (s)  146432 non-null  float64\n",
      " 1   Z (kN)    146432 non-null  float64\n",
      " 2   Y (kN)    146432 non-null  float64\n",
      " 3   X (kN)    146432 non-null  float64\n",
      "dtypes: float64(4)\n",
      "memory usage: 4.5 MB\n",
      "None\n",
      "<class 'pandas.core.frame.DataFrame'>\n",
      "RangeIndex: 84992 entries, 0 to 84991\n",
      "Data columns (total 4 columns):\n",
      " #   Column    Non-Null Count  Dtype  \n",
      "---  ------    --------------  -----  \n",
      " 0   Time (s)  84992 non-null  float64\n",
      " 1   Z (kN)    84992 non-null  float64\n",
      " 2   Y (kN)    84992 non-null  float64\n",
      " 3   X (kN)    84992 non-null  float64\n",
      "dtypes: float64(4)\n",
      "memory usage: 2.6 MB\n",
      "None\n",
      "<class 'pandas.core.frame.DataFrame'>\n",
      "RangeIndex: 84992 entries, 0 to 84991\n",
      "Data columns (total 4 columns):\n",
      " #   Column    Non-Null Count  Dtype  \n",
      "---  ------    --------------  -----  \n",
      " 0   Time (s)  84992 non-null  float64\n",
      " 1   Z (kN)    84992 non-null  float64\n",
      " 2   Y (kN)    84992 non-null  float64\n",
      " 3   X (kN)    84992 non-null  float64\n",
      "dtypes: float64(4)\n",
      "memory usage: 2.6 MB\n",
      "None\n"
     ]
    }
   ],
   "source": [
    "for data in y_raw:\n",
    "    print(data.info())"
   ]
  },
  {
   "cell_type": "markdown",
   "id": "080d4b29",
   "metadata": {},
   "source": [
    "### Data cleaning"
   ]
  },
  {
   "cell_type": "code",
   "execution_count": 6,
   "id": "d36163ee",
   "metadata": {},
   "outputs": [
    {
     "name": "stdout",
     "output_type": "stream",
     "text": [
      "[0.       0.000488 0.000977 0.001465 0.001953]\n",
      "[0.00048828 0.00097656 0.00146484 0.00195312 0.00244141]\n"
     ]
    }
   ],
   "source": [
    "# Show full precision of first 5 time values\n",
    "print(X_raw[0]['Time'].iloc[:5].values)\n",
    "print(y_raw[0]['Time (s)'].iloc[:5].values)"
   ]
  },
  {
   "cell_type": "markdown",
   "id": "95e87352",
   "metadata": {},
   "source": [
    "There are miss match in decimal places for time. "
   ]
  },
  {
   "cell_type": "code",
   "execution_count": 7,
   "id": "107d4a79",
   "metadata": {},
   "outputs": [],
   "source": [
    "# clean up time and merge features and labels\n",
    "def clean_and_merge_features_labels(X, y, time_col_X='Time', time_col_y='Time (s)', rounding_precision=6):\n",
    "    \"\"\"\n",
    "    Cleans and merges stress and force dataframes by inner join on rounded time values.\n",
    "\n",
    "    Args:\n",
    "        X (DataFrame): Raw stress data with Time column.\n",
    "        y (DataFrame): Raw force data with Time column.\n",
    "        time_col_X (str): Column name for time in X_raw.\n",
    "        time_col_y (str): Column name for time in y_raw.\n",
    "        rounding_precision (int): Decimal places to round time values to.\n",
    "\n",
    "    Returns:\n",
    "        X_aligned (DataFrame): Cleaned and aligned feature set (including Time if needed).\n",
    "        y_aligned (DataFrame): Cleaned and aligned label set (X, Y, Z forces).\n",
    "    \"\"\"\n",
    "    # Round time columns to ensure alignment\n",
    "    X[time_col_X] = X[time_col_X].round(rounding_precision)\n",
    "    y[time_col_y] = y[time_col_y].round(rounding_precision)\n",
    "    \n",
    "    # Merge on rounded time\n",
    "    merged = pd.merge(X, y, left_on=time_col_X, right_on=time_col_y, how='inner')\n",
    "    \n",
    "    # Keep only one time column \n",
    "    merged = merged.drop(columns=[time_col_y])\n",
    "\n",
    "    # Separate features and labels \n",
    "    X_aligned = merged.iloc[:, :-3]  # Features include Time and stress sensors\n",
    "    y_aligned = merged.iloc[:, -3:]  # Labels: X, Y, Z forces\n",
    "\n",
    "    return X_aligned, y_aligned\n"
   ]
  },
  {
   "cell_type": "code",
   "execution_count": 8,
   "id": "455f5ebb",
   "metadata": {},
   "outputs": [],
   "source": [
    "X_aligned_list = []\n",
    "y_aligned_list = []\n",
    "\n",
    "for X, y in zip(X_raw, y_raw):\n",
    "    X_aligned, y_aligned = clean_and_merge_features_labels(X, y)\n",
    "    X_aligned_list.append(X_aligned)\n",
    "    y_aligned_list.append(y_aligned)"
   ]
  },
  {
   "cell_type": "code",
   "execution_count": 9,
   "id": "228faa11",
   "metadata": {},
   "outputs": [
    {
     "name": "stdout",
     "output_type": "stream",
     "text": [
      "Lab 1\n",
      "\tDimension X:  (63504, 19)\n",
      "\tDimension Y:  (63504, 3)\n",
      "\tMissing values: 0\n",
      "\tDuplicates:  0\n",
      "-----------------------------------------------\n",
      "Lab 2\n",
      "\tDimension X:  (144144, 19)\n",
      "\tDimension Y:  (144144, 3)\n",
      "\tMissing values: 0\n",
      "\tDuplicates:  0\n",
      "-----------------------------------------------\n",
      "Lab 3\n",
      "\tDimension X:  (83664, 19)\n",
      "\tDimension Y:  (83664, 3)\n",
      "\tMissing values: 0\n",
      "\tDuplicates:  0\n",
      "-----------------------------------------------\n",
      "Lab 4\n",
      "\tDimension X:  (83664, 19)\n",
      "\tDimension Y:  (83664, 3)\n",
      "\tMissing values: 0\n",
      "\tDuplicates:  0\n",
      "-----------------------------------------------\n"
     ]
    }
   ],
   "source": [
    "for i in range(len(X_aligned_list)):\n",
    "    print(f\"Lab {i + 1}\")\n",
    "    print(f\"\\tDimension X: \", X_aligned_list[i].shape)\n",
    "    print(f\"\\tDimension Y: \", y_aligned_list[i].shape)\n",
    "    print(f\"\\tMissing values:\", (X_aligned_list[i].isna().sum()).sum())\n",
    "    print(f\"\\tDuplicates: \", X_aligned_list[i].duplicated().sum())\n",
    "    print(\"-----------------------------------------------\")"
   ]
  },
  {
   "cell_type": "code",
   "execution_count": 10,
   "id": "febcdc4a",
   "metadata": {},
   "outputs": [
    {
     "name": "stdout",
     "output_type": "stream",
     "text": [
      "lab 1\n",
      "y initial:  (64512, 4)\n",
      "y after join:  (63504, 3)\n",
      "--------------------\n",
      "lab 2\n",
      "y initial:  (146432, 4)\n",
      "y after join:  (144144, 3)\n",
      "--------------------\n",
      "lab 3\n",
      "y initial:  (84992, 4)\n",
      "y after join:  (83664, 3)\n",
      "--------------------\n",
      "lab 4\n",
      "y initial:  (84992, 4)\n",
      "y after join:  (83664, 3)\n",
      "--------------------\n"
     ]
    }
   ],
   "source": [
    "for i, y in enumerate(y_aligned_list):\n",
    "    print(f\"lab {i + 1}\")\n",
    "    print(f\"y initial: \", y_raw[i].shape)\n",
    "    print(f\"y after join: \", y_aligned_list[i].shape)\n",
    "    print(\"-\" * 20)\n",
    "    "
   ]
  },
  {
   "cell_type": "code",
   "execution_count": 11,
   "id": "37dd1a12",
   "metadata": {},
   "outputs": [
    {
     "name": "stdout",
     "output_type": "stream",
     "text": [
      "<class 'pandas.core.frame.DataFrame'>\n",
      "Int64Index: 63504 entries, 0 to 63503\n",
      "Data columns (total 3 columns):\n",
      " #   Column  Non-Null Count  Dtype  \n",
      "---  ------  --------------  -----  \n",
      " 0   Z (kN)  63504 non-null  float64\n",
      " 1   Y (kN)  63504 non-null  float64\n",
      " 2   X (kN)  63504 non-null  float64\n",
      "dtypes: float64(3)\n",
      "memory usage: 1.9 MB\n"
     ]
    }
   ],
   "source": [
    "y_aligned_list[0].info()"
   ]
  },
  {
   "cell_type": "code",
   "execution_count": 12,
   "id": "d1db300d",
   "metadata": {},
   "outputs": [
    {
     "data": {
      "text/plain": [
       "['../data/interim/02_y_aligned_list.joblib']"
      ]
     },
     "execution_count": 12,
     "metadata": {},
     "output_type": "execute_result"
    }
   ],
   "source": [
    "### save df \n",
    "joblib.dump(X_aligned_list, '../data/interim/01_X_aligned_list.joblib')\n",
    "joblib.dump(y_aligned_list, '../data/interim/02_y_aligned_list.joblib')"
   ]
  }
 ],
 "metadata": {
  "kernelspec": {
   "display_name": "tracking-barbell-exercises",
   "language": "python",
   "name": "python3"
  },
  "language_info": {
   "codemirror_mode": {
    "name": "ipython",
    "version": 3
   },
   "file_extension": ".py",
   "mimetype": "text/x-python",
   "name": "python",
   "nbconvert_exporter": "python",
   "pygments_lexer": "ipython3",
   "version": "3.8.15"
  }
 },
 "nbformat": 4,
 "nbformat_minor": 5
}
